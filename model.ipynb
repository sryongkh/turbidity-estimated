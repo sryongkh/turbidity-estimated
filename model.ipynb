{
 "cells": [
  {
   "cell_type": "markdown",
   "metadata": {},
   "source": [
    "-----------------------------------------------------------------------------------------------------------------------------------------------------------"
   ]
  },
  {
   "cell_type": "markdown",
   "metadata": {},
   "source": [
    "Import Libraries"
   ]
  },
  {
   "cell_type": "code",
   "execution_count": 6,
   "metadata": {},
   "outputs": [],
   "source": [
    "# ไลบรารี่สำหรับทำโมเดล\n",
    "import numpy as np\n",
    "import pandas as pd\n",
    "import pickle\n",
    "from sklearn.preprocessing import Normalizer\n",
    "from sklearn.model_selection import train_test_split\n",
    "from sklearn.metrics import mean_squared_error\n",
    "from sklearn.neural_network import MLPRegressor\n",
    "from sklearn.linear_model import LinearRegression\n",
    "from sklearn.neighbors import KNeighborsRegressor\n",
    "from sklearn.preprocessing import PolynomialFeatures"
   ]
  },
  {
   "cell_type": "markdown",
   "metadata": {},
   "source": [
    "-----------------------------------------------------------------------------------------------------------------------------------------------------------"
   ]
  },
  {
   "cell_type": "markdown",
   "metadata": {},
   "source": [
    "Train Test ของ ANN "
   ]
  },
  {
   "cell_type": "code",
   "execution_count": 38,
   "metadata": {},
   "outputs": [
    {
     "name": "stdout",
     "output_type": "stream",
     "text": [
      "ANN ค่า RMSE Training :  4.999916549545079\n",
      "ANN ค่า RMSE Testing :  5.037876260380803\n"
     ]
    }
   ],
   "source": [
    "dataset = pd.read_csv('ntumodel.csv')\n",
    "x = dataset[['max_gray_scale','min_gray_scale','mean_gray_scale', 'std_gray_scale', 'mean_luminance', \n",
    "'std_luminance', 'mean_red', 'std_red','mean_green', 'std_green', 'mean_blue', 'std_blue']]\n",
    "y = dataset['ntu']\n",
    "X_train, X_test, y_train, y_test = train_test_split(x, y, test_size = 0.33, random_state = 41)\n",
    "scaler = Normalizer()\n",
    "X_train = scaler.fit_transform(X_train)\n",
    "X_test = scaler.fit_transform(X_test)\n",
    "ann = MLPRegressor((512, 256, 128, 64, 32), solver = 'adam', random_state = 7 , batch_size = 9, max_iter=500)\n",
    "ann.fit(X_train, np.ravel(y_train,order='C'))\n",
    "x_pred = ann.predict(X_train)\n",
    "y_pred = ann.predict(X_test)\n",
    "#train\n",
    "train_rmse = mean_squared_error(y_train, x_pred, squared=False)\n",
    "#test\n",
    "test_rmse = mean_squared_error(y_test, y_pred, squared=False)\n",
    "print(\"ANN ค่า RMSE Training : \", train_rmse)\n",
    "print(\"ANN ค่า RMSE Testing : \", test_rmse)"
   ]
  },
  {
   "cell_type": "code",
   "execution_count": 96,
   "metadata": {},
   "outputs": [],
   "source": [
    "X_train = pd.DataFrame(y_train)\n",
    "X_pred = pd.DataFrame(x_pred)\n",
    "Y_test = pd.DataFrame(y_test)\n",
    "Y_pred = pd.DataFrame(y_pred)\n",
    "X_train.to_csv(\"trainann.csv\")\n",
    "X_pred.to_csv(\"trainpredann.csv\")\n",
    "Y_test.to_csv(\"testann.csv\")\n",
    "Y_pred.to_csv(\"testpredann.csv\")"
   ]
  },
  {
   "cell_type": "markdown",
   "metadata": {},
   "source": [
    "---------------------------------------------------"
   ]
  },
  {
   "cell_type": "markdown",
   "metadata": {},
   "source": [
    "LINEAR REGRESSION"
   ]
  },
  {
   "cell_type": "code",
   "execution_count": 40,
   "metadata": {},
   "outputs": [
    {
     "name": "stdout",
     "output_type": "stream",
     "text": [
      "Regression ค่า RMSE Training :  3.305896021439262\n",
      "Regression ค่า RMSE Testing :  3.5533838945879164\n"
     ]
    }
   ],
   "source": [
    "dataset = pd.read_csv('ntumodel.csv')\n",
    "df = pd.DataFrame(dataset)\n",
    "x = df[['max_gray_scale','min_gray_scale','mean_gray_scale', 'std_gray_scale', 'mean_luminance', \n",
    "'std_luminance', 'mean_red', 'std_red','mean_green', 'std_green', 'mean_blue', 'std_blue']]\n",
    "y = df['ntu']\n",
    "x_train, x_test, y_train, y_test = train_test_split(x, y, test_size = 0.33, random_state = 41)\n",
    "poly = PolynomialFeatures(degree=3)\n",
    "x_train = poly.fit_transform(x_train)\n",
    "x_test = poly.fit_transform(x_test)\n",
    "regression = LinearRegression()\n",
    "regression.fit(x_train, y_train)\n",
    "x_pred = regression.predict(x_train)\n",
    "y_pred = regression.predict(x_test)\n",
    "#train\n",
    "train_rmse = mean_squared_error(y_train, x_pred, squared=False)\n",
    "#test\n",
    "test_rmse = mean_squared_error(y_test, y_pred, squared=False)\n",
    "print(\"Regression ค่า RMSE Training : \", train_rmse)\n",
    "print(\"Regression ค่า RMSE Testing : \", test_rmse)"
   ]
  },
  {
   "cell_type": "code",
   "execution_count": null,
   "metadata": {},
   "outputs": [],
   "source": [
    "X_train = pd.DataFrame(y_train)\n",
    "X_pred = pd.DataFrame(x_pred)\n",
    "Y_test = pd.DataFrame(y_test)\n",
    "Y_pred = pd.DataFrame(y_pred)\n",
    "X_train.to_csv(\"trainlinear.csv\")\n",
    "X_pred.to_csv(\"trainpredlinear.csv\")\n",
    "Y_test.to_csv(\"testlinear.csv\")\n",
    "Y_pred.to_csv(\"testpredlinear.csv\")"
   ]
  },
  {
   "cell_type": "markdown",
   "metadata": {},
   "source": [
    "-------------------------"
   ]
  },
  {
   "cell_type": "markdown",
   "metadata": {},
   "source": [
    "K-NN"
   ]
  },
  {
   "cell_type": "code",
   "execution_count": 37,
   "metadata": {},
   "outputs": [
    {
     "name": "stdout",
     "output_type": "stream",
     "text": [
      "KNN ค่า RMSE Training :  0.0\n",
      "KNN ค่า RMSE Testing :  6.503107260410522\n"
     ]
    }
   ],
   "source": [
    "dataset = pd.read_csv('ntumodel.csv')\n",
    "x = dataset[['max_gray_scale','min_gray_scale','mean_gray_scale', 'std_gray_scale', 'mean_luminance', \n",
    "'std_luminance', 'mean_red', 'std_red','mean_green', 'std_green', 'mean_blue', 'std_blue']]\n",
    "y = dataset['ntu']\n",
    "X_train, X_test, y_train, y_test = train_test_split(x, y, test_size = 0.33, random_state = 41)\n",
    "scaler = Normalizer()\n",
    "X_train = scaler.fit_transform(X_train)\n",
    "X_test = scaler.fit_transform(X_test)\n",
    "knn = KNeighborsRegressor(n_neighbors = 1)\n",
    "knn.fit(X_train, y_train)\n",
    "x_pred = knn.predict(X_train)\n",
    "y_pred = knn.predict(X_test)\n",
    "#train\n",
    "train_rmse = mean_squared_error(y_train, x_pred, squared=False)\n",
    "#test\n",
    "test_rmse = mean_squared_error(y_test, y_pred, squared=False)\n",
    "print(\"KNN ค่า RMSE Training : \", train_rmse)\n",
    "print(\"KNN ค่า RMSE Testing : \", test_rmse)"
   ]
  },
  {
   "cell_type": "code",
   "execution_count": null,
   "metadata": {},
   "outputs": [],
   "source": [
    "X_train = pd.DataFrame(y_train)\n",
    "x_pred = pd.DataFrame(x_pred)\n",
    "y_test = pd.DataFrame(y_test)\n",
    "y_pred = pd.DataFrame(y_pred)\n",
    "X_train.to_csv(\"trainknn.csv\")\n",
    "x_pred.to_csv(\"trainpredknn.csv\")\n",
    "y_test.to_csv(\"testknn.csv\")\n",
    "y_pred.to_csv(\"testpredknn.csv\")"
   ]
  },
  {
   "cell_type": "markdown",
   "metadata": {},
   "source": [
    "-------------------"
   ]
  },
  {
   "cell_type": "code",
   "execution_count": 126,
   "metadata": {},
   "outputs": [],
   "source": [
    "pickle.dump(ann, open('annmodel.pkl','wb'))\n",
    "pickle.dump(regression, open('linearmodel.pkl','wb'))\n",
    "pickle.dump(knn, open('knnmodel.pkl','wb'))"
   ]
  },
  {
   "cell_type": "code",
   "execution_count": 5,
   "metadata": {},
   "outputs": [],
   "source": [
    "pickle.dump(regression, open('linearmodel.pkl','wb'))"
   ]
  }
 ],
 "metadata": {
  "interpreter": {
   "hash": "3fee23864de3c1f237703937c0f32ed36d475aa8cf5996c0465f04eef27ca0f6"
  },
  "kernelspec": {
   "display_name": "Python 3.9.6 64-bit",
   "language": "python",
   "name": "python3"
  },
  "language_info": {
   "codemirror_mode": {
    "name": "ipython",
    "version": 3
   },
   "file_extension": ".py",
   "mimetype": "text/x-python",
   "name": "python",
   "nbconvert_exporter": "python",
   "pygments_lexer": "ipython3",
   "version": "3.10.2"
  },
  "orig_nbformat": 4
 },
 "nbformat": 4,
 "nbformat_minor": 2
}
